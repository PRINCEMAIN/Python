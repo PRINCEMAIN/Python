{
 "cells": [
  {
   "cell_type": "code",
   "execution_count": 10,
   "metadata": {},
   "outputs": [
    {
     "name": "stdout",
     "output_type": "stream",
     "text": [
      "Please enter 1st side of triangle12\n",
      "Please enter 2nd side of triangle13\n",
      "Please enter 3rd side of triangle15\n",
      "Area= 74.83314773547883\n"
     ]
    }
   ],
   "source": [
    "#1.1 Write a Python Program(with class concepts) to find the area of the triangle using the below formula.\n",
    "def triangleinputs():\n",
    "        try:\n",
    "            x = int(input(\"Please enter 1st side of triangle\"))\n",
    "        except:\n",
    "            print(\"Looks like you did not enter an integer!\")\n",
    "        try:\n",
    "            y = int(input(\"Please enter 2nd side of triangle\"))\n",
    "        except:\n",
    "            print(\"Looks like you did not enter an integer!\")\n",
    "        try:\n",
    "            z = int(input(\"Please enter 3rd side of triangle\"))\n",
    "        except:\n",
    "            print(\"Looks like you did not enter an integer!\")\n",
    "        finally:\n",
    "#            print(\"Finally, I executed!\")\n",
    "#        print(a,b)  \n",
    "         return(x,y,z)\n",
    "def areatriangle():\n",
    "    triside = triangleinputs()\n",
    "    a= triside[0]\n",
    "    b= triside[1]\n",
    "    c= triside[2]\n",
    "    s = (a+b+c)*0.5\n",
    "    area = (s*(s-a)*(s-b)*(s-c)) ** 0.5\n",
    "    print('Area=',area)\n",
    "\n",
    "areatriangle()"
   ]
  },
  {
   "cell_type": "code",
   "execution_count": 9,
   "metadata": {},
   "outputs": [
    {
     "name": "stdout",
     "output_type": "stream",
     "text": [
      "['need', 'words', 'greater', 'than', 'equal', 'four']\n"
     ]
    }
   ],
   "source": [
    "#1.2 Write a function filter_long_words() that takes a list of words and an integer n and returns the list of words that are longer than n.\n",
    "def filter_long_words(n, str):\n",
    "    word_len = []\n",
    "    txt = str.split(\" \")\n",
    "    for x in txt:\n",
    "        if len(x) >= n:\n",
    "            word_len.append(x)\n",
    "    return word_len\t\n",
    "print(filter_long_words(4, \"I need words greater than and equal to four\"))"
   ]
  },
  {
   "cell_type": "code",
   "execution_count": 13,
   "metadata": {},
   "outputs": [
    {
     "name": "stdout",
     "output_type": "stream",
     "text": [
      "Input : Please enter Words : Prince,Aanchal,Aaruhi\n",
      "Output: Length of Words are : [6, 7, 6]\n"
     ]
    }
   ],
   "source": [
    "#Write a Python program using function concept that maps list of words into a list of integers representing the lengths of the corresponding words.\n",
    "def map_Words_to_Length(List):\n",
    " \n",
    "    return list(map(len, List))\n",
    "\n",
    "word_List=list(input(\"Input : Please enter Words : \").split(\",\"))\n",
    "\n",
    "List=[x.strip() for x in word_List]\n",
    "\n",
    "Words_lengths=map_Words_to_Length(List)\n",
    "\n",
    "print(\"Output: Length of Words are :\",Words_lengths )"
   ]
  },
  {
   "cell_type": "code",
   "execution_count": null,
   "metadata": {},
   "outputs": [],
   "source": [
    "#2.2 Write a Python function which takes a character (i.e. a string of length 1) and returns True if it is a vowel, False otherwise.\n",
    "def vowel_checker(inputChar):\n",
    "    return_value=''\n",
    "    if(len(inputChar)==1):\n",
    "        vowel_list=['a','e','i','o','u']\n",
    "        if (inputChar.lower() in vowel_list):\n",
    "            return_value= True\n",
    "        else:\n",
    "            return_value= False\n",
    "    else:\n",
    "        return_value=\"Please enter single character only!\"        \n",
    "    return return_value\n",
    "\n",
    "print(\"Enter character to check that it is Vowel or not\")\n",
    "input_value = input(\"Input Value: \")\n",
    "\n",
    "output_value=vowel_checker(input_value) \n",
    "\n",
    "print(\"Output Value:\",output_value)"
   ]
  },
  {
   "cell_type": "code",
   "execution_count": null,
   "metadata": {},
   "outputs": [],
   "source": []
  }
 ],
 "metadata": {
  "kernelspec": {
   "display_name": "Python 3",
   "language": "python",
   "name": "python3"
  },
  "language_info": {
   "codemirror_mode": {
    "name": "ipython",
    "version": 3
   },
   "file_extension": ".py",
   "mimetype": "text/x-python",
   "name": "python",
   "nbconvert_exporter": "python",
   "pygments_lexer": "ipython3",
   "version": "3.7.4"
  }
 },
 "nbformat": 4,
 "nbformat_minor": 2
}
